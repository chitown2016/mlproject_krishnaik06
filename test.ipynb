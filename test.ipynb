{
 "cells": [
  {
   "cell_type": "code",
   "execution_count": 2,
   "metadata": {},
   "outputs": [
    {
     "name": "stdout",
     "output_type": "stream",
     "text": [
      "Current Python installation:\n",
      "c:\\Users\\mtulum\\anaconda3\n",
      "All Python installations:\n",
      "c:\\Users\\mtulum\\anaconda3\n",
      "c:\\Users\\mtulum\\anaconda3\n"
     ]
    }
   ],
   "source": [
    "import sys\n",
    "\n",
    "# Get the path of the currently active Python environment\n",
    "print(\"Current Python installation:\")\n",
    "print(sys.prefix)\n",
    "\n",
    "# Get a list of all Python installations\n",
    "print(\"All Python installations:\")\n",
    "print(sys.base_prefix)  # First installation\n",
    "print(sys.base_prefix)\n",
    "# Repeat the line above for other Python installations"
   ]
  },
  {
   "cell_type": "code",
   "execution_count": null,
   "metadata": {},
   "outputs": [],
   "source": []
  }
 ],
 "metadata": {
  "kernelspec": {
   "display_name": "base",
   "language": "python",
   "name": "python3"
  },
  "language_info": {
   "codemirror_mode": {
    "name": "ipython",
    "version": 3
   },
   "file_extension": ".py",
   "mimetype": "text/x-python",
   "name": "python",
   "nbconvert_exporter": "python",
   "pygments_lexer": "ipython3",
   "version": "3.9.13"
  },
  "orig_nbformat": 4
 },
 "nbformat": 4,
 "nbformat_minor": 2
}
